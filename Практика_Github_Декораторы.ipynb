{
  "nbformat": 4,
  "nbformat_minor": 0,
  "metadata": {
    "colab": {
      "name": "Практика_Github_Декораторы.ipynb",
      "provenance": []
    },
    "kernelspec": {
      "name": "python3",
      "display_name": "Python 3"
    }
  },
  "cells": [
    {
      "cell_type": "markdown",
      "metadata": {
        "id": "p3wdb_luWp3t",
        "colab_type": "text"
      },
      "source": [
        "#Пример 1."
      ]
    },
    {
      "cell_type": "code",
      "metadata": {
        "id": "0tn3klTjWsl2",
        "colab_type": "code",
        "colab": {
          "base_uri": "https://localhost:8080/",
          "height": 262
        },
        "outputId": "f7145da2-666e-435a-debc-0689527b22a8"
      },
      "source": [
        "class TestClass:\n",
        "\n",
        "    def __init__(self):\n",
        "        self.public_variable = \"I'm public!\"\n",
        "        self.__private_variable = \"I'm too shy to be public!\"\n",
        "\n",
        "    def get_public_variable(self):\n",
        "        return self.public_variable\n",
        "\n",
        "    def get_private_variable(self):\n",
        "        return self.__private_variable\n",
        "\n",
        "if __name__ == \"__main__\":\n",
        "    test_class = TestClass()\n",
        "    print(\" \".join([\"Public variable:\", test_class.get_public_variable()]))\n",
        "    print(\" \".join([\"Public variable:\", test_class.public_variable]))\n",
        "\n",
        "    print(\" \".join([\"Private variable:\", test_class.get_private_variable()]))\n",
        "    print(\" \".join([\"Private variable:\", test_class._private_variable]))"
      ],
      "execution_count": 42,
      "outputs": [
        {
          "output_type": "stream",
          "text": [
            "Public variable: I'm public!\n",
            "Public variable: I'm public!\n",
            "Private variable: I'm too shy to be public!\n"
          ],
          "name": "stdout"
        },
        {
          "output_type": "error",
          "ename": "AttributeError",
          "evalue": "ignored",
          "traceback": [
            "\u001b[0;31m---------------------------------------------------------------------------\u001b[0m",
            "\u001b[0;31mAttributeError\u001b[0m                            Traceback (most recent call last)",
            "\u001b[0;32m<ipython-input-42-b54941b0f4fd>\u001b[0m in \u001b[0;36m<module>\u001b[0;34m()\u001b[0m\n\u001b[1;32m     17\u001b[0m \u001b[0;34m\u001b[0m\u001b[0m\n\u001b[1;32m     18\u001b[0m     \u001b[0mprint\u001b[0m\u001b[0;34m(\u001b[0m\u001b[0;34m\" \"\u001b[0m\u001b[0;34m.\u001b[0m\u001b[0mjoin\u001b[0m\u001b[0;34m(\u001b[0m\u001b[0;34m[\u001b[0m\u001b[0;34m\"Private variable:\"\u001b[0m\u001b[0;34m,\u001b[0m \u001b[0mtest_class\u001b[0m\u001b[0;34m.\u001b[0m\u001b[0mget_private_variable\u001b[0m\u001b[0;34m(\u001b[0m\u001b[0;34m)\u001b[0m\u001b[0;34m]\u001b[0m\u001b[0;34m)\u001b[0m\u001b[0;34m)\u001b[0m\u001b[0;34m\u001b[0m\u001b[0;34m\u001b[0m\u001b[0m\n\u001b[0;32m---> 19\u001b[0;31m     \u001b[0mprint\u001b[0m\u001b[0;34m(\u001b[0m\u001b[0;34m\" \"\u001b[0m\u001b[0;34m.\u001b[0m\u001b[0mjoin\u001b[0m\u001b[0;34m(\u001b[0m\u001b[0;34m[\u001b[0m\u001b[0;34m\"Private variable:\"\u001b[0m\u001b[0;34m,\u001b[0m \u001b[0mtest_class\u001b[0m\u001b[0;34m.\u001b[0m\u001b[0m_private_variable\u001b[0m\u001b[0;34m]\u001b[0m\u001b[0;34m)\u001b[0m\u001b[0;34m)\u001b[0m\u001b[0;34m\u001b[0m\u001b[0;34m\u001b[0m\u001b[0m\n\u001b[0m",
            "\u001b[0;31mAttributeError\u001b[0m: 'TestClass' object has no attribute '_private_variable'"
          ]
        }
      ]
    },
    {
      "cell_type": "markdown",
      "metadata": {
        "id": "DA2H6FMmWtYt",
        "colab_type": "text"
      },
      "source": [
        "#Пример 2."
      ]
    },
    {
      "cell_type": "code",
      "metadata": {
        "id": "vmWLnIoNWv-t",
        "colab_type": "code",
        "colab": {}
      },
      "source": [
        "class UniversityMember:\n",
        "    passToUniversity = ''\n",
        "    status = True\n",
        "\n",
        "    def checkStatus(self):\n",
        "        return self.status\n",
        "\n",
        "    def dismiss(self):\n",
        "        self.status = False\n",
        "        self.pass_to_university = None\n",
        "        \n",
        "class Student(UniversityMember):\n",
        "    group = None\n",
        "\n",
        "class Teacher(UniversityMember):\n",
        "    cathedral = None\n",
        "\n",
        "class Administrator(UniversityMember):\n",
        "    pass"
      ],
      "execution_count": 0,
      "outputs": []
    },
    {
      "cell_type": "markdown",
      "metadata": {
        "id": "xht3yNkEWyp2",
        "colab_type": "text"
      },
      "source": [
        "#Пример 3."
      ]
    },
    {
      "cell_type": "code",
      "metadata": {
        "id": "8wa7SbZX-MQp",
        "colab_type": "code",
        "colab": {
          "base_uri": "https://localhost:8080/",
          "height": 72
        },
        "outputId": "9c918a08-aaf4-4648-91d4-d693a79e3c95"
      },
      "source": [
        "class Person:\n",
        "    def __init__(self, name, age):\n",
        "        self.name = name\n",
        "        self.age = age\n",
        "\n",
        "    # classmethod чтобы создать объект по году рождения,\n",
        "    # \"альтернативный\" конструктор\n",
        "    @classmethod\n",
        "    def fromBirthYear(cls, name, year):\n",
        "        return cls(name, 2020 - year)\n",
        "\n",
        "    # статический метод,чтобы проверить совершеннолетие\n",
        "    @staticmethod\n",
        "    def isAdult(age):\n",
        "        return age > 18\n",
        "\n",
        "person1 = Person('Петя', 21)\n",
        "person2 = Person.fromBirthYear('Петя', 1996)\n",
        "\n",
        "print (person1.age)\n",
        "print (person2.age)\n",
        "\n",
        "# print the result\n",
        "print (Person.isAdult(22))"
      ],
      "execution_count": 38,
      "outputs": [
        {
          "output_type": "stream",
          "text": [
            "21\n",
            "24\n",
            "True\n"
          ],
          "name": "stdout"
        }
      ]
    },
    {
      "cell_type": "markdown",
      "metadata": {
        "id": "SzFQ3oIm-B6k",
        "colab_type": "text"
      },
      "source": [
        "#Задание 1."
      ]
    },
    {
      "cell_type": "code",
      "metadata": {
        "id": "mstslwtj8d1C",
        "colab_type": "code",
        "colab": {
          "base_uri": "https://localhost:8080/",
          "height": 272
        },
        "outputId": "b71ecb34-b2dd-4d9c-b4bc-fa3e3a65a37d"
      },
      "source": [
        "def sum2(func):\n",
        "  def how(sp):\n",
        "    y=0\n",
        "    y=func(sp)\n",
        "    if y>10:\n",
        "      print(\"Очень много\")\n",
        "    elif y==0:\n",
        "      print(\"Нету(\")\n",
        "    else:\n",
        "      print(\"Четных чисел - \",y)\n",
        "  return how\n",
        "\n",
        "@sum2\n",
        "def sum(sp):\n",
        "  x=0\n",
        "  for i in sp:\n",
        "    if (i%2 == 0):\n",
        "      x += 1\n",
        "  return x\n",
        "\n",
        "\n",
        "x=int(input(\"Введите 1-е число: \"))\n",
        "z = list()\n",
        "i=1\n",
        "while x != 0:\n",
        "  z.append(x)\n",
        "  i +=1\n",
        "  x=int(input(\"Введите {}-е число: \".format(i)))\n",
        "\n",
        "sum(z)"
      ],
      "execution_count": 44,
      "outputs": [
        {
          "output_type": "stream",
          "text": [
            "Введите 1-е число: 44\n",
            "Введите 2-е число: 22\n",
            "Введите 3-е число: 2\n",
            "Введите 4-е число: 222\n",
            "Введите 5-е число: 444\n",
            "Введите 6-е число: 666\n",
            "Введите 7-е число: 6\n",
            "Введите 8-е число: 88888\n",
            "Введите 9-е число: 100002\n",
            "Введите 10-е число: 24\n",
            "Введите 11-е число: 76\n",
            "Введите 12-е число: 9\n",
            "Введите 13-е число: 0\n",
            "Очень много\n"
          ],
          "name": "stdout"
        }
      ]
    },
    {
      "cell_type": "markdown",
      "metadata": {
        "id": "d7PtogcV-GlC",
        "colab_type": "text"
      },
      "source": [
        "#Задание 2."
      ]
    },
    {
      "cell_type": "code",
      "metadata": {
        "id": "GrqW9age-JRB",
        "colab_type": "code",
        "colab": {
          "base_uri": "https://localhost:8080/",
          "height": 35
        },
        "outputId": "433355fd-5413-499d-f484-642cff43995f"
      },
      "source": [
        "def decorator(func):\n",
        "  def vid(self,other):\n",
        "    C=func(self,other)\n",
        "    print(\"(\",self.x,\",\",self.y,\") + (\",other.x,\",\",other.y,\") = (\",C.x,\",\",C.y,\")\")\n",
        "  return vid\n",
        "\n",
        "class Vector:\n",
        "  def __init__(self, x = 0, y = 0):\n",
        "    self.x = x\n",
        "    self.y = y\n",
        "  @decorator\n",
        "  def __add__(self, other):\n",
        "    return Vector(self.x + other.x, self.y + other.y)\n",
        "\n",
        "A = Vector(1, 2)\n",
        "B = Vector(3, 4)\n",
        "C = A + B"
      ],
      "execution_count": 37,
      "outputs": [
        {
          "output_type": "stream",
          "text": [
            "( 1 , 2 ) + ( 3 , 4 ) = ( 4 , 6 )\n"
          ],
          "name": "stdout"
        }
      ]
    }
  ]
}
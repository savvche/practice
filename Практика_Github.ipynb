{
  "nbformat": 4,
  "nbformat_minor": 0,
  "metadata": {
    "colab": {
      "name": "Практика_Github.ipynb",
      "provenance": []
    },
    "kernelspec": {
      "name": "python3",
      "display_name": "Python 3"
    }
  },
  "cells": [
    {
      "cell_type": "markdown",
      "metadata": {
        "id": "SzFQ3oIm-B6k",
        "colab_type": "text"
      },
      "source": [
        "#Пример 1."
      ]
    },
    {
      "cell_type": "code",
      "metadata": {
        "id": "mstslwtj8d1C",
        "colab_type": "code",
        "colab": {
          "base_uri": "https://localhost:8080/",
          "height": 254
        },
        "outputId": "ad01d63b-20e3-4e59-bd2c-f5b476d5017d"
      },
      "source": [
        "def sum2(func):\n",
        "  def how(sp):\n",
        "    y=0\n",
        "    y=func(sp)\n",
        "    if y>10:\n",
        "      print(\"Очень много\")\n",
        "    elif y==0:\n",
        "      print(\"Нету(\")\n",
        "    else:\n",
        "      print(\"Четных чисел - \",y)\n",
        "  return how\n",
        "\n",
        "@sum2\n",
        "def sum(sp):\n",
        "  x=0\n",
        "  for i in sp:\n",
        "    if (i%2 == 0):\n",
        "      x += 1\n",
        "  return x\n",
        "\n",
        "\n",
        "x=int(input(\"Введите 1-е число: \"))\n",
        "z = list()\n",
        "i=1\n",
        "while x != 0:\n",
        "  z.append(x)\n",
        "  i +=1\n",
        "  x=int(input(\"Введите {}-е число: \".format(i)))\n",
        "\n",
        "sum(z)"
      ],
      "execution_count": 8,
      "outputs": [
        {
          "output_type": "stream",
          "text": [
            "Введите 1-е число: 2\n",
            "Введите 2-е число: 4\n",
            "Введите 3-е число: 6\n",
            "Введите 4-е число: 8\n",
            "Введите 5-е число: 10\n",
            "Введите 6-е число: 12\n",
            "Введите 7-е число: 14\n",
            "Введите 8-е число: 16\n",
            "Введите 9-е число: 22\n",
            "Введите 10-е число: 222\n",
            "Введите 11-е число: 2222\n",
            "Введите 12-е число: 0\n",
            "Очень много\n"
          ],
          "name": "stdout"
        }
      ]
    },
    {
      "cell_type": "markdown",
      "metadata": {
        "id": "d7PtogcV-GlC",
        "colab_type": "text"
      },
      "source": [
        "#Пример 2."
      ]
    },
    {
      "cell_type": "code",
      "metadata": {
        "id": "GrqW9age-JRB",
        "colab_type": "code",
        "colab": {
          "base_uri": "https://localhost:8080/",
          "height": 35
        },
        "outputId": "433355fd-5413-499d-f484-642cff43995f"
      },
      "source": [
        "def decorator(func):\n",
        "  def vid(self,other):\n",
        "    C=func(self,other)\n",
        "    print(\"(\",self.x,\",\",self.y,\") + (\",other.x,\",\",other.y,\") = (\",C.x,\",\",C.y,\")\")\n",
        "  return vid\n",
        "\n",
        "class Vector:\n",
        "  def __init__(self, x = 0, y = 0):\n",
        "    self.x = x\n",
        "    self.y = y\n",
        "  @decorator\n",
        "  def __add__(self, other):\n",
        "    return Vector(self.x + other.x, self.y + other.y)\n",
        "\n",
        "A = Vector(1, 2)\n",
        "B = Vector(3, 4)\n",
        "C = A + B"
      ],
      "execution_count": 37,
      "outputs": [
        {
          "output_type": "stream",
          "text": [
            "( 1 , 2 ) + ( 3 , 4 ) = ( 4 , 6 )\n"
          ],
          "name": "stdout"
        }
      ]
    },
    {
      "cell_type": "markdown",
      "metadata": {
        "id": "d8usqcQU-JZn",
        "colab_type": "text"
      },
      "source": [
        "#Пример 3."
      ]
    },
    {
      "cell_type": "code",
      "metadata": {
        "id": "8wa7SbZX-MQp",
        "colab_type": "code",
        "colab": {}
      },
      "source": [
        "class Person:\n",
        "    def __init__(self, name, age):\n",
        "        self.name = name\n",
        "        self.age = age\n",
        "\n",
        "    # classmethod чтобы создать объект по году рождения,\n",
        "    # \"альтернативный\" конструктор\n",
        "    @classmethod\n",
        "    def fromBirthYear(cls, name, year):\n",
        "        return cls(name, 2020 - year)\n",
        "\n",
        "    # статический метод,чтобы проверить совершеннолетие\n",
        "    @staticmethod\n",
        "    def isAdult(age):\n",
        "        return age > 18\n",
        "\n",
        "person1 = Person('Петя', 21)\n",
        "person2 = Person.fromBirthYear('Петя', 1996)\n",
        "\n",
        "print (person1.age)\n",
        "print (person2.age)\n",
        "\n",
        "# print the result\n",
        "print (Person.isAdult(22))"
      ],
      "execution_count": 0,
      "outputs": []
    }
  ]
}